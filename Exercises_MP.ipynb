{
 "cells": [
  {
   "cell_type": "markdown",
   "metadata": {},
   "source": [
    "# Exercises MP"
   ]
  },
  {
   "cell_type": "code",
   "execution_count": 1,
   "metadata": {},
   "outputs": [],
   "source": [
    "import numpy as np\n",
    "import pandas as pd\n",
    "from scipy import optimize\n",
    "import matplotlib.pyplot as plt\n",
    "from pulp import *\n",
    "import pyomo.environ as pyomo\n",
    "import nlopt"
   ]
  },
  {
   "cell_type": "markdown",
   "metadata": {},
   "source": [
    "## Transport model"
   ]
  },
  {
   "cell_type": "markdown",
   "metadata": {},
   "source": [
    "First in the matrix notation"
   ]
  },
  {
   "cell_type": "code",
   "execution_count": 2,
   "metadata": {},
   "outputs": [
    {
     "name": "stdout",
     "output_type": "stream",
     "text": [
      "[[ 3  7  6 23]\n",
      " [ 9 11  3 13]\n",
      " [17  6 13  7]]\n"
     ]
    }
   ],
   "source": [
    "D_mat = np.array([[3,7,6,23],[9,11,3,13],[17,6,13,7]])\n",
    "print(D_mat)"
   ]
  },
  {
   "cell_type": "code",
   "execution_count": 3,
   "metadata": {},
   "outputs": [
    {
     "name": "stdout",
     "output_type": "stream",
     "text": [
      "[[ 20  40  35 120]\n",
      " [ 50  60  20  70]\n",
      " [ 90  35  70  40]]\n"
     ]
    }
   ],
   "source": [
    "Cost_mat = 5 + 5*D_mat\n",
    "print(Cost_mat)"
   ]
  },
  {
   "cell_type": "markdown",
   "metadata": {},
   "source": [
    "Flatten cost matrix to a column vector (n x 1)"
   ]
  },
  {
   "cell_type": "code",
   "execution_count": 4,
   "metadata": {},
   "outputs": [
    {
     "name": "stdout",
     "output_type": "stream",
     "text": [
      "[[ 20]\n",
      " [ 40]\n",
      " [ 35]\n",
      " [120]\n",
      " [ 50]\n",
      " [ 60]\n",
      " [ 20]\n",
      " [ 70]\n",
      " [ 90]\n",
      " [ 35]\n",
      " [ 70]\n",
      " [ 40]]\n"
     ]
    }
   ],
   "source": [
    "c_vector = Cost_mat.reshape(-1,1)\n",
    "print(c_vector)"
   ]
  },
  {
   "cell_type": "markdown",
   "metadata": {},
   "source": [
    "Add constraints"
   ]
  },
  {
   "cell_type": "code",
   "execution_count": 111,
   "metadata": {},
   "outputs": [
    {
     "name": "stdout",
     "output_type": "stream",
     "text": [
      "[[1 1 1 1 0 0 0 0 0 0 0 0]\n",
      " [0 0 0 0 1 1 1 1 0 0 0 0]\n",
      " [0 0 0 0 0 0 0 0 1 1 1 1]]\n",
      "[[100]\n",
      " [ 75]\n",
      " [ 90]]\n"
     ]
    }
   ],
   "source": [
    "A_ub = np.array([\n",
    "    [1,1,1,1,0,0,0,0,0,0,0,0],\n",
    "    [0,0,0,0,1,1,1,1,0,0,0,0],\n",
    "    [0,0,0,0,0,0,0,0,1,1,1,1]\n",
    "])\n",
    "print(A_ub)\n",
    "b_ub = np.array([100,75,90]).reshape(-1,1)\n",
    "print(b_ub)"
   ]
  },
  {
   "cell_type": "code",
   "execution_count": 112,
   "metadata": {},
   "outputs": [
    {
     "name": "stdout",
     "output_type": "stream",
     "text": [
      "[[1. 0. 0. 0. 1. 0. 0. 0. 1. 0. 0. 0.]\n",
      " [0. 1. 0. 0. 0. 1. 0. 0. 0. 1. 0. 0.]\n",
      " [0. 0. 1. 0. 0. 0. 1. 0. 0. 0. 1. 0.]\n",
      " [0. 0. 0. 1. 0. 0. 0. 1. 0. 0. 0. 1.]]\n",
      "[[30]\n",
      " [75]\n",
      " [90]\n",
      " [50]]\n"
     ]
    }
   ],
   "source": [
    "A_eq = np.concatenate([np.eye(4),np.eye(4),np.eye(4)],axis = 1)\n",
    "print(A_eq)\n",
    "b_eq = np.array([30,75,90,50]).reshape(-1,1)\n",
    "print(b_eq)"
   ]
  },
  {
   "cell_type": "code",
   "execution_count": 113,
   "metadata": {},
   "outputs": [
    {
     "name": "stdout",
     "output_type": "stream",
     "text": [
      "        message: Optimization terminated successfully. (HiGHS Status 7: Optimal)\n",
      "        success: True\n",
      "         status: 0\n",
      "            fun: 7425.0\n",
      "              x: [ 3.000e+01  3.500e+01  1.500e+01  0.000e+00  0.000e+00\n",
      "                   0.000e+00  7.500e+01  0.000e+00  0.000e+00  4.000e+01\n",
      "                   0.000e+00  5.000e+01]\n",
      "            nit: 6\n",
      "          lower:  residual: [ 3.000e+01  3.500e+01  1.500e+01  0.000e+00\n",
      "                              0.000e+00  0.000e+00  7.500e+01  0.000e+00\n",
      "                              0.000e+00  4.000e+01  0.000e+00  5.000e+01]\n",
      "                 marginals: [ 0.000e+00  0.000e+00  0.000e+00  7.500e+01\n",
      "                              4.500e+01  3.500e+01  0.000e+00  4.000e+01\n",
      "                              7.500e+01  0.000e+00  4.000e+01  0.000e+00]\n",
      "          upper:  residual: [       inf        inf        inf        inf\n",
      "                                    inf        inf        inf        inf\n",
      "                                    inf        inf        inf        inf]\n",
      "                 marginals: [ 0.000e+00  0.000e+00  0.000e+00  0.000e+00\n",
      "                              0.000e+00  0.000e+00  0.000e+00  0.000e+00\n",
      "                              0.000e+00  0.000e+00  0.000e+00  0.000e+00]\n",
      "          eqlin:  residual: [ 0.000e+00  0.000e+00  0.000e+00  0.000e+00]\n",
      "                 marginals: [ 2.000e+01  4.000e+01  3.500e+01  4.500e+01]\n",
      "        ineqlin:  residual: [ 2.000e+01  0.000e+00  0.000e+00]\n",
      "                 marginals: [-0.000e+00 -1.500e+01 -5.000e+00]\n",
      " mip_node_count: 0\n",
      " mip_dual_bound: 0.0\n",
      "        mip_gap: 0.0\n"
     ]
    }
   ],
   "source": [
    "sol = optimize.linprog(c_vector, A_ub, b_ub, A_eq, b_eq)\n",
    "print(sol)"
   ]
  },
  {
   "cell_type": "code",
   "execution_count": 114,
   "metadata": {},
   "outputs": [
    {
     "name": "stdout",
     "output_type": "stream",
     "text": [
      "minimal_cost =  7425.0\n",
      "duals supply =    residual: [ 2.000e+01  0.000e+00  0.000e+00]\n",
      " marginals: [-0.000e+00 -1.500e+01 -5.000e+00]\n",
      "optimal_x =  [[30. 35. 15.  0.]\n",
      " [ 0.  0. 75.  0.]\n",
      " [ 0. 40.  0. 50.]]\n"
     ]
    }
   ],
   "source": [
    "minimal_cost = sol.fun\n",
    "print('minimal_cost = ', minimal_cost)\n",
    "duals_supply = sol.ineqlin\n",
    "print('duals supply = ', duals_supply)\n",
    "optimal_x = sol.x.reshape((3,4))\n",
    "print('optimal_x = ', optimal_x)"
   ]
  },
  {
   "cell_type": "markdown",
   "metadata": {},
   "source": [
    "So interpretation dual supply: if 1 more unit would produced at the second location (Chicago), then the cost would drop by 15!"
   ]
  },
  {
   "cell_type": "code",
   "execution_count": 115,
   "metadata": {},
   "outputs": [
    {
     "name": "stdout",
     "output_type": "stream",
     "text": [
      "duals_demand   residual: [ 0.000e+00  0.000e+00  0.000e+00  0.000e+00]\n",
      " marginals: [ 2.000e+01  4.000e+01  3.500e+01  4.500e+01]\n"
     ]
    }
   ],
   "source": [
    "duals_demand = sol.eqlin\n",
    "print('duals_demand', duals_demand)"
   ]
  },
  {
   "cell_type": "markdown",
   "metadata": {},
   "source": [
    "So if demand at site 1 (Miami) increases, then cost function rises with 20"
   ]
  },
  {
   "cell_type": "markdown",
   "metadata": {},
   "source": [
    "Is correct! checked with GAMS!"
   ]
  },
  {
   "cell_type": "markdown",
   "metadata": {},
   "source": [
    "## Blending problem"
   ]
  },
  {
   "cell_type": "markdown",
   "metadata": {},
   "source": [
    "As both lower and upper constraint, scipy won't work anyymore => try pyomo. Inspired by https://jckantor.github.io/ND-Pyomo-Cookbook/notebooks/02.03-Linear-Blending-Problem.html and https://jckantor.github.io/ND-Pyomo-Cookbook/notebooks/02.05-Gasoline-Blending.html "
   ]
  },
  {
   "cell_type": "code",
   "execution_count": 56,
   "metadata": {},
   "outputs": [],
   "source": [
    "mass = 1 #mass of 1 kg\n",
    "data = {    \n",
    "    'Corn':{'cost':0.133,'nutrients':{  \n",
    "        'Netenergy':1.48,\n",
    "        'Protein':0.075,\n",
    "        'Fat':0.0357,\n",
    "        'Vitamin_a':600,\n",
    "        'Salt':0,\n",
    "        'Calcium':0.0002,\n",
    "        'Phosphorus':0.0035\n",
    "    }},\n",
    "    'Dical':{'cost':0.498,'nutrients':{  \n",
    "        'Netenergy':0,\n",
    "        'Protein':0,\n",
    "        'Fat':0,\n",
    "        'Vitamin_a':0,\n",
    "        'Salt':0,\n",
    "        'Calcium':0.2313,\n",
    "        'Phosphorus':0.1865\n",
    "    }},\n",
    "    'Alfalfa':{'cost':0.077,'nutrients':{  \n",
    "        'Netenergy':0.49,\n",
    "        'Protein':0.127,\n",
    "        'Fat':0.022,\n",
    "        'Vitamin_a':50880,\n",
    "        'Salt':0,\n",
    "        'Calcium':0.0125,\n",
    "        'Phosphorus':0.0023\n",
    "    }},\n",
    "    'Salt':{'cost':0.11,'nutrients':{  \n",
    "        'Netenergy':0,\n",
    "        'Protein':0,\n",
    "        'Fat':0,\n",
    "        'Vitamin_a':0,\n",
    "        'Salt':1,\n",
    "        'Calcium':0,\n",
    "        'Phosphorus':0\n",
    "    }},\n",
    "    'Soybeans':{'cost':0.3,'nutrients':{  \n",
    "        'Netenergy':1.29,\n",
    "        'Protein':0.438,\n",
    "        'Fat':0.013,\n",
    "        'Vitamin_a':80,\n",
    "        'Salt':0,\n",
    "        'Calcium':0.0036,\n",
    "        'Phosphorus':0.0075\n",
    "    }},\n",
    "    'Vitamin_a':{'cost':0.286,'nutrients':{  \n",
    "        'Netenergy':0,\n",
    "        'Protein':0,\n",
    "        'Fat':0,\n",
    "        'Vitamin_a':2204600,\n",
    "        'Salt':0,\n",
    "        'Calcium':0,\n",
    "        'Phosphorus':0\n",
    "    }},\n",
    "    'Urea':{'cost':0.332,'nutrients':{  \n",
    "        'Netenergy':0,\n",
    "        'Protein':2.62,\n",
    "        'Fat':0,\n",
    "        'Vitamin_a':0,\n",
    "        'Salt':0,\n",
    "        'Calcium':0,\n",
    "        'Phosphorus':0.68\n",
    "    }},\n",
    "    'Potato_slurry':{'cost':0.250,'nutrients':{  \n",
    "        'Netenergy':1.39,\n",
    "        'Protein':0.032,\n",
    "        'Fat':0.009,\n",
    "        'Vitamin_a':0,\n",
    "        'Salt':0,\n",
    "        'Calcium':0.002,\n",
    "        'Phosphorus':0.0024\n",
    "    }}\n",
    "}"
   ]
  },
  {
   "cell_type": "code",
   "execution_count": 82,
   "metadata": {},
   "outputs": [],
   "source": [
    "constraints = { \n",
    "     'Netenergy':{'lower':1.34531,'upper':float('inf')},\n",
    "    'Protein':{'lower':0.071,'upper':0.13},\n",
    "    'Fat':{'lower':0,'upper':0.05},\n",
    "    'Vitamin_a':{'lower':2200,'upper':float('inf')},\n",
    "    'Salt':{'lower':0.015,'upper':0.02},\n",
    "    'Calcium':{'lower':0.0025,'upper':0.01},\n",
    "    'Phosphorus':{'lower':0.0035,'upper':0.012},\n",
    "}"
   ]
  },
  {
   "cell_type": "code",
   "execution_count": 83,
   "metadata": {},
   "outputs": [],
   "source": [
    "keys = constraints.keys()"
   ]
  },
  {
   "cell_type": "code",
   "execution_count": 84,
   "metadata": {},
   "outputs": [
    {
     "data": {
      "text/plain": [
       "['Netenergy', 'Protein', 'Fat', 'Vitamin_a', 'Salt', 'Calcium', 'Phosphorus']"
      ]
     },
     "execution_count": 84,
     "metadata": {},
     "output_type": "execute_result"
    }
   ],
   "source": [
    "list(keys)"
   ]
  },
  {
   "cell_type": "code",
   "execution_count": 85,
   "metadata": {},
   "outputs": [
    {
     "data": {
      "text/plain": [
       "dict_keys(['Corn', 'Dical', 'Alfalfa', 'Salt', 'Soybeans', 'Vitamin_a', 'Urea', 'Potato_slurry'])"
      ]
     },
     "execution_count": 85,
     "metadata": {},
     "output_type": "execute_result"
    }
   ],
   "source": [
    "data.keys()"
   ]
  },
  {
   "cell_type": "code",
   "execution_count": 86,
   "metadata": {},
   "outputs": [
    {
     "data": {
      "text/plain": [
       "0"
      ]
     },
     "execution_count": 86,
     "metadata": {},
     "output_type": "execute_result"
    }
   ],
   "source": [
    "data['Corn']['nutrients']['Salt']"
   ]
  },
  {
   "cell_type": "code",
   "execution_count": 87,
   "metadata": {},
   "outputs": [],
   "source": [
    "# !pip install PyUtilib\n",
    "# !pip install pyomo[clp]"
   ]
  },
  {
   "cell_type": "code",
   "execution_count": 88,
   "metadata": {},
   "outputs": [],
   "source": [
    "def feed_blend(mass):\n",
    "    nutrients = constraints.keys()\n",
    "    ingredients = data.keys()\n",
    "    model = pyomo.ConcreteModel()\n",
    "    model.dual = pyomo.Suffix(direction=pyomo.Suffix.IMPORT)\n",
    "    #define variables\n",
    "    model.x = pyomo.Var(ingredients, domain = pyomo.NonNegativeReals)\n",
    "    #define objective\n",
    "    model.cost = pyomo.Objective(expr = sum(model.x[c]*data[c]['cost'] for c in ingredients))\n",
    "    #define constraints\n",
    "    model.mass = pyomo.Constraint(expr = mass == sum(model.x[c] for c in ingredients))\n",
    "    #model.cons = pyomo.ConstraintList()\n",
    "    model.cons = pyomo.Constraint(pyomo.Any)\n",
    "    for nutrient in nutrients:\n",
    "        #model.cons.add(sum(model.x[c]*data[c]['nutrients'][nutrient] for c in ingredients) >= constraints[nutrient]['lower'])\n",
    "        #model.cons.add(sum(model.x[c]*data[c]['nutrients'][nutrient] for c in ingredients) <= constraints[nutrient]['upper'])\n",
    "        model.cons[nutrient+'_lower'] = sum(model.x[c]*data[c]['nutrients'][nutrient] for c in ingredients) >= constraints[nutrient]['lower']\n",
    "        model.cons[nutrient + '_upper'] = sum(model.x[c]*data[c]['nutrients'][nutrient] for c in ingredients) <= constraints[nutrient]['upper']\n",
    "    #solve model\n",
    "    solver = pyomo.SolverFactory('glpk')\n",
    "    solver.solve(model).write()\n",
    "    return model\n"
   ]
  },
  {
   "cell_type": "code",
   "execution_count": 89,
   "metadata": {},
   "outputs": [
    {
     "name": "stdout",
     "output_type": "stream",
     "text": [
      "# ==========================================================\n",
      "# = Solver Results                                         =\n",
      "# ==========================================================\n",
      "# ----------------------------------------------------------\n",
      "#   Problem Information\n",
      "# ----------------------------------------------------------\n",
      "Problem: \n",
      "- Name: unknown\n",
      "  Lower bound: 0.128201868252725\n",
      "  Upper bound: 0.128201868252725\n",
      "  Number of objectives: 1\n",
      "  Number of constraints: 14\n",
      "  Number of variables: 9\n",
      "  Number of nonzeros: 59\n",
      "  Sense: minimize\n",
      "# ----------------------------------------------------------\n",
      "#   Solver Information\n",
      "# ----------------------------------------------------------\n",
      "Solver: \n",
      "- Status: ok\n",
      "  Termination condition: optimal\n",
      "  Statistics: \n",
      "    Branch and bound: \n",
      "      Number of bounded subproblems: 0\n",
      "      Number of created subproblems: 0\n",
      "  Error rc: 0\n",
      "  Time: 0.030997753143310547\n",
      "# ----------------------------------------------------------\n",
      "#   Solution Information\n",
      "# ----------------------------------------------------------\n",
      "Solution: \n",
      "- number of solutions: 0\n",
      "  number of solutions displayed: 0\n"
     ]
    },
    {
     "data": {
      "text/plain": [
       "<pyomo.core.base.PyomoModel.ConcreteModel at 0x269668221b0>"
      ]
     },
     "execution_count": 89,
     "metadata": {},
     "output_type": "execute_result"
    }
   ],
   "source": [
    "model = feed_blend(mass)\n",
    "model"
   ]
  },
  {
   "cell_type": "code",
   "execution_count": 90,
   "metadata": {},
   "outputs": [
    {
     "data": {
      "text/html": [
       "<div>\n",
       "<style scoped>\n",
       "    .dataframe tbody tr th:only-of-type {\n",
       "        vertical-align: middle;\n",
       "    }\n",
       "\n",
       "    .dataframe tbody tr th {\n",
       "        vertical-align: top;\n",
       "    }\n",
       "\n",
       "    .dataframe thead th {\n",
       "        text-align: right;\n",
       "    }\n",
       "</style>\n",
       "<table border=\"1\" class=\"dataframe\">\n",
       "  <thead>\n",
       "    <tr style=\"text-align: right;\">\n",
       "      <th></th>\n",
       "      <th>amount</th>\n",
       "    </tr>\n",
       "  </thead>\n",
       "  <tbody>\n",
       "    <tr>\n",
       "      <th>Corn</th>\n",
       "      <td>0.873480</td>\n",
       "    </tr>\n",
       "    <tr>\n",
       "      <th>Dical</th>\n",
       "      <td>0.004256</td>\n",
       "    </tr>\n",
       "    <tr>\n",
       "      <th>Alfalfa</th>\n",
       "      <td>0.107263</td>\n",
       "    </tr>\n",
       "    <tr>\n",
       "      <th>Salt</th>\n",
       "      <td>0.015000</td>\n",
       "    </tr>\n",
       "    <tr>\n",
       "      <th>Soybeans</th>\n",
       "      <td>0.000000</td>\n",
       "    </tr>\n",
       "    <tr>\n",
       "      <th>Vitamin_a</th>\n",
       "      <td>0.000000</td>\n",
       "    </tr>\n",
       "    <tr>\n",
       "      <th>Urea</th>\n",
       "      <td>0.000000</td>\n",
       "    </tr>\n",
       "    <tr>\n",
       "      <th>Potato_slurry</th>\n",
       "      <td>0.000000</td>\n",
       "    </tr>\n",
       "  </tbody>\n",
       "</table>\n",
       "</div>"
      ],
      "text/plain": [
       "                 amount\n",
       "Corn           0.873480\n",
       "Dical          0.004256\n",
       "Alfalfa        0.107263\n",
       "Salt           0.015000\n",
       "Soybeans       0.000000\n",
       "Vitamin_a      0.000000\n",
       "Urea           0.000000\n",
       "Potato_slurry  0.000000"
      ]
     },
     "execution_count": 90,
     "metadata": {},
     "output_type": "execute_result"
    }
   ],
   "source": [
    "results = pd.DataFrame()\n",
    "ingredients = data.keys()\n",
    "for ingredient in ingredients:\n",
    "    results.loc[ingredient,'amount'] = model.x[ingredient]()\n",
    "results"
   ]
  },
  {
   "cell_type": "markdown",
   "metadata": {},
   "source": [
    "Analogous direct output!"
   ]
  },
  {
   "cell_type": "code",
   "execution_count": 91,
   "metadata": {},
   "outputs": [
    {
     "name": "stdout",
     "output_type": "stream",
     "text": [
      "x : Size=8, Index=x_index\n",
      "    Key           : Lower : Value               : Upper : Fixed : Stale : Domain\n",
      "          Alfalfa :     0 :   0.107263095662084 :  None : False : False : NonNegativeReals\n",
      "             Corn :     0 :   0.873480461571337 :  None : False : False : NonNegativeReals\n",
      "            Dical :     0 : 0.00425644276657883 :  None : False : False : NonNegativeReals\n",
      "    Potato_slurry :     0 :                 0.0 :  None : False : False : NonNegativeReals\n",
      "             Salt :     0 :  0.0150000000000004 :  None : False : False : NonNegativeReals\n",
      "         Soybeans :     0 :                 0.0 :  None : False : False : NonNegativeReals\n",
      "             Urea :     0 :                 0.0 :  None : False : False : NonNegativeReals\n",
      "        Vitamin_a :     0 :                 0.0 :  None : False : False : NonNegativeReals\n"
     ]
    }
   ],
   "source": [
    "model.x.display()"
   ]
  },
  {
   "cell_type": "markdown",
   "metadata": {},
   "source": [
    "analogous to GAMS output!\n",
    "\n",
    "<img src=\"GAMS_feed_output.png\">"
   ]
  },
  {
   "cell_type": "code",
   "execution_count": 92,
   "metadata": {},
   "outputs": [
    {
     "name": "stdout",
     "output_type": "stream",
     "text": [
      "dual : Direction=Suffix.IMPORT, Datatype=Suffix.FLOAT\n",
      "    Key                    : Value\n",
      "       cons[Calcium_lower] :   2.10950447562742\n",
      "       cons[Calcium_upper] :                0.0\n",
      "           cons[Fat_lower] :                0.0\n",
      "           cons[Fat_upper] :                0.0\n",
      "     cons[Netenergy_lower] : 0.0827746515658761\n",
      "    cons[Phosphorus_lower] :                0.0\n",
      "    cons[Phosphorus_upper] :                0.0\n",
      "       cons[Protein_lower] :                0.0\n",
      "       cons[Protein_upper] :                0.0\n",
      "          cons[Salt_lower] : 0.0999283852126221\n",
      "          cons[Salt_upper] :                0.0\n",
      "     cons[Vitamin_a_lower] :                0.0\n",
      "                      mass : 0.0100716147873779\n"
     ]
    }
   ],
   "source": [
    "model.dual.display()"
   ]
  },
  {
   "cell_type": "markdown",
   "metadata": {},
   "source": [
    "How to variables are translated to the model"
   ]
  },
  {
   "cell_type": "code",
   "execution_count": 93,
   "metadata": {},
   "outputs": [
    {
     "name": "stdout",
     "output_type": "stream",
     "text": [
      "cons : Size=14\n",
      "    Key              : Lower   : Body                 : Upper\n",
      "       Calcium_lower :  0.0025 : 0.002500000000000001 :  None\n",
      "       Calcium_upper :    None : 0.002500000000000001 :  0.01\n",
      "           Fat_lower :     0.0 :  0.03354304058266258 :  None\n",
      "           Fat_upper :    None :  0.03354304058266258 :  0.05\n",
      "     Netenergy_lower : 1.34531 :   1.3453099999999998 :  None\n",
      "     Netenergy_upper :    None :   1.3453099999999998 :  None\n",
      "    Phosphorus_lower :  0.0035 : 0.004097713311489424 :  None\n",
      "    Phosphorus_upper :    None : 0.004097713311489424 : 0.012\n",
      "       Protein_lower :   0.071 :  0.07913344776693493 :  None\n",
      "       Protein_upper :    None :  0.07913344776693493 :  0.13\n",
      "          Salt_lower :   0.015 :   0.0150000000000004 :  None\n",
      "          Salt_upper :    None :   0.0150000000000004 :  0.02\n",
      "     Vitamin_a_lower :  2200.0 :    5981.634584229636 :  None\n",
      "     Vitamin_a_upper :    None :    5981.634584229636 :  None\n"
     ]
    }
   ],
   "source": [
    "model.cons.display()"
   ]
  },
  {
   "cell_type": "code",
   "execution_count": 69,
   "metadata": {},
   "outputs": [
    {
     "name": "stdout",
     "output_type": "stream",
     "text": [
      "cost : Size=1, Index=None, Active=True\n",
      "    Key  : Active : Value\n",
      "    None :   True : 0.1282018682527246\n"
     ]
    }
   ],
   "source": [
    "model.cost.display()"
   ]
  },
  {
   "cell_type": "markdown",
   "metadata": {},
   "source": [
    "## Digester\n"
   ]
  },
  {
   "cell_type": "code",
   "execution_count": 23,
   "metadata": {},
   "outputs": [],
   "source": [
    "#!pip install openpyxl"
   ]
  },
  {
   "cell_type": "code",
   "execution_count": 24,
   "metadata": {},
   "outputs": [
    {
     "data": {
      "text/html": [
       "<div>\n",
       "<style scoped>\n",
       "    .dataframe tbody tr th:only-of-type {\n",
       "        vertical-align: middle;\n",
       "    }\n",
       "\n",
       "    .dataframe tbody tr th {\n",
       "        vertical-align: top;\n",
       "    }\n",
       "\n",
       "    .dataframe thead th {\n",
       "        text-align: right;\n",
       "    }\n",
       "</style>\n",
       "<table border=\"1\" class=\"dataframe\">\n",
       "  <thead>\n",
       "    <tr style=\"text-align: right;\">\n",
       "      <th></th>\n",
       "      <th>Gate Fee</th>\n",
       "      <th>Tonnage</th>\n",
       "      <th>Dichtheid</th>\n",
       "      <th>Biogaspotentieel</th>\n",
       "      <th>Degradatie</th>\n",
       "      <th>Debiet</th>\n",
       "    </tr>\n",
       "    <tr>\n",
       "      <th>Oorsprong</th>\n",
       "      <th></th>\n",
       "      <th></th>\n",
       "      <th></th>\n",
       "      <th></th>\n",
       "      <th></th>\n",
       "      <th></th>\n",
       "    </tr>\n",
       "  </thead>\n",
       "  <tbody>\n",
       "    <tr>\n",
       "      <th>KeukenafvalUgent</th>\n",
       "      <td>112.00</td>\n",
       "      <td>150.00</td>\n",
       "      <td>0.75</td>\n",
       "      <td>100.0</td>\n",
       "      <td>0.07</td>\n",
       "      <td>200.000000</td>\n",
       "    </tr>\n",
       "    <tr>\n",
       "      <th>DrijfmestUgent</th>\n",
       "      <td>6.50</td>\n",
       "      <td>1000.00</td>\n",
       "      <td>1.00</td>\n",
       "      <td>20.0</td>\n",
       "      <td>0.13</td>\n",
       "      <td>1000.000000</td>\n",
       "    </tr>\n",
       "    <tr>\n",
       "      <th>VasteMestUgent</th>\n",
       "      <td>1.68</td>\n",
       "      <td>1890.00</td>\n",
       "      <td>0.90</td>\n",
       "      <td>100.0</td>\n",
       "      <td>0.13</td>\n",
       "      <td>2100.000000</td>\n",
       "    </tr>\n",
       "    <tr>\n",
       "      <th>SpijsolieUgent</th>\n",
       "      <td>-400.00</td>\n",
       "      <td>13.76</td>\n",
       "      <td>0.90</td>\n",
       "      <td>850.0</td>\n",
       "      <td>0.12</td>\n",
       "      <td>15.288889</td>\n",
       "    </tr>\n",
       "    <tr>\n",
       "      <th>GroenafvalUgent</th>\n",
       "      <td>60.00</td>\n",
       "      <td>63.80</td>\n",
       "      <td>0.25</td>\n",
       "      <td>100.0</td>\n",
       "      <td>0.04</td>\n",
       "      <td>255.200000</td>\n",
       "    </tr>\n",
       "    <tr>\n",
       "      <th>PaardenmestUgent</th>\n",
       "      <td>1.68</td>\n",
       "      <td>3430.00</td>\n",
       "      <td>0.70</td>\n",
       "      <td>42.5</td>\n",
       "      <td>0.13</td>\n",
       "      <td>4900.000000</td>\n",
       "    </tr>\n",
       "    <tr>\n",
       "      <th>GroenafvalUZ</th>\n",
       "      <td>66.40</td>\n",
       "      <td>23.30</td>\n",
       "      <td>0.25</td>\n",
       "      <td>100.0</td>\n",
       "      <td>0.04</td>\n",
       "      <td>93.200000</td>\n",
       "    </tr>\n",
       "    <tr>\n",
       "      <th>KeukenafvalSodexoNP</th>\n",
       "      <td>72.50</td>\n",
       "      <td>120.00</td>\n",
       "      <td>0.75</td>\n",
       "      <td>100.0</td>\n",
       "      <td>0.07</td>\n",
       "      <td>160.000000</td>\n",
       "    </tr>\n",
       "    <tr>\n",
       "      <th>KeukenafvalSodexoP</th>\n",
       "      <td>72.50</td>\n",
       "      <td>240.00</td>\n",
       "      <td>0.75</td>\n",
       "      <td>100.0</td>\n",
       "      <td>0.07</td>\n",
       "      <td>320.000000</td>\n",
       "    </tr>\n",
       "    <tr>\n",
       "      <th>BroodafvalX</th>\n",
       "      <td>100.00</td>\n",
       "      <td>28.60</td>\n",
       "      <td>0.75</td>\n",
       "      <td>300.0</td>\n",
       "      <td>0.07</td>\n",
       "      <td>38.133333</td>\n",
       "    </tr>\n",
       "    <tr>\n",
       "      <th>VleesafvalX</th>\n",
       "      <td>239.00</td>\n",
       "      <td>77.80</td>\n",
       "      <td>0.75</td>\n",
       "      <td>150.0</td>\n",
       "      <td>0.07</td>\n",
       "      <td>103.733333</td>\n",
       "    </tr>\n",
       "    <tr>\n",
       "      <th>KeukenafvalGuis</th>\n",
       "      <td>98.30</td>\n",
       "      <td>65.30</td>\n",
       "      <td>0.75</td>\n",
       "      <td>100.0</td>\n",
       "      <td>0.07</td>\n",
       "      <td>87.066667</td>\n",
       "    </tr>\n",
       "    <tr>\n",
       "      <th>SpijsolieGuis</th>\n",
       "      <td>0.00</td>\n",
       "      <td>1.00</td>\n",
       "      <td>0.90</td>\n",
       "      <td>850.0</td>\n",
       "      <td>0.12</td>\n",
       "      <td>1.111111</td>\n",
       "    </tr>\n",
       "    <tr>\n",
       "      <th>GroenafvalGuis</th>\n",
       "      <td>197.75</td>\n",
       "      <td>36.00</td>\n",
       "      <td>0.25</td>\n",
       "      <td>100.0</td>\n",
       "      <td>0.04</td>\n",
       "      <td>144.000000</td>\n",
       "    </tr>\n",
       "    <tr>\n",
       "      <th>ExtraKeukenafval</th>\n",
       "      <td>88.00</td>\n",
       "      <td>150.00</td>\n",
       "      <td>0.75</td>\n",
       "      <td>100.0</td>\n",
       "      <td>0.07</td>\n",
       "      <td>200.000000</td>\n",
       "    </tr>\n",
       "  </tbody>\n",
       "</table>\n",
       "</div>"
      ],
      "text/plain": [
       "                     Gate Fee  Tonnage  Dichtheid  Biogaspotentieel  \\\n",
       "Oorsprong                                                             \n",
       "KeukenafvalUgent       112.00   150.00       0.75             100.0   \n",
       "DrijfmestUgent           6.50  1000.00       1.00              20.0   \n",
       "VasteMestUgent           1.68  1890.00       0.90             100.0   \n",
       "SpijsolieUgent        -400.00    13.76       0.90             850.0   \n",
       "GroenafvalUgent         60.00    63.80       0.25             100.0   \n",
       "PaardenmestUgent         1.68  3430.00       0.70              42.5   \n",
       "GroenafvalUZ            66.40    23.30       0.25             100.0   \n",
       "KeukenafvalSodexoNP     72.50   120.00       0.75             100.0   \n",
       "KeukenafvalSodexoP      72.50   240.00       0.75             100.0   \n",
       "BroodafvalX            100.00    28.60       0.75             300.0   \n",
       "VleesafvalX            239.00    77.80       0.75             150.0   \n",
       "KeukenafvalGuis         98.30    65.30       0.75             100.0   \n",
       "SpijsolieGuis            0.00     1.00       0.90             850.0   \n",
       "GroenafvalGuis         197.75    36.00       0.25             100.0   \n",
       "ExtraKeukenafval        88.00   150.00       0.75             100.0   \n",
       "\n",
       "                     Degradatie       Debiet  \n",
       "Oorsprong                                     \n",
       "KeukenafvalUgent           0.07   200.000000  \n",
       "DrijfmestUgent             0.13  1000.000000  \n",
       "VasteMestUgent             0.13  2100.000000  \n",
       "SpijsolieUgent             0.12    15.288889  \n",
       "GroenafvalUgent            0.04   255.200000  \n",
       "PaardenmestUgent           0.13  4900.000000  \n",
       "GroenafvalUZ               0.04    93.200000  \n",
       "KeukenafvalSodexoNP        0.07   160.000000  \n",
       "KeukenafvalSodexoP         0.07   320.000000  \n",
       "BroodafvalX                0.07    38.133333  \n",
       "VleesafvalX                0.07   103.733333  \n",
       "KeukenafvalGuis            0.07    87.066667  \n",
       "SpijsolieGuis              0.12     1.111111  \n",
       "GroenafvalGuis             0.04   144.000000  \n",
       "ExtraKeukenafval           0.07   200.000000  "
      ]
     },
     "execution_count": 24,
     "metadata": {},
     "output_type": "execute_result"
    }
   ],
   "source": [
    "digester_data = pd.read_excel('data.xlsx', sheet_name = 'Parameters')\n",
    "#digester_data['Debiet'] = digester_data['Tonnage']*digester_data['Dichtheid'] #What Jeroen does\n",
    "digester_data['Debiet'] = digester_data['Tonnage']/digester_data['Dichtheid'] #Wat seems more logical too me\n",
    "digester_data = digester_data.rename(columns = {'Unnamed: 0':'Oorsprong'})\n",
    "digster_data = digester_data.set_index('Oorsprong', inplace = True)\n",
    "digester_data"
   ]
  },
  {
   "cell_type": "code",
   "execution_count": 25,
   "metadata": {},
   "outputs": [
    {
     "name": "stdout",
     "output_type": "stream",
     "text": [
      "9617.733333333334\n"
     ]
    }
   ],
   "source": [
    "Q_tot = digester_data['Debiet'].sum()\n",
    "print(Q_tot) #in m^3/year\n",
    "Ton_tot = digester_data['Tonnage'].sum()"
   ]
  },
  {
   "cell_type": "code",
   "execution_count": 26,
   "metadata": {},
   "outputs": [],
   "source": [
    "years = range(10)\n",
    "r = 0.05 #deprecation rate"
   ]
  },
  {
   "cell_type": "code",
   "execution_count": 27,
   "metadata": {},
   "outputs": [],
   "source": [
    "model_ad = pyomo.ConcreteModel()\n",
    "model_ad.dual = pyomo.Suffix(direction=pyomo.Suffix.IMPORT)"
   ]
  },
  {
   "cell_type": "markdown",
   "metadata": {},
   "source": [
    "specify the variables"
   ]
  },
  {
   "cell_type": "code",
   "execution_count": 28,
   "metadata": {},
   "outputs": [],
   "source": [
    "model_ad.Volume = pyomo.Var([1], domain = pyomo.NonNegativeReals)\n",
    "model_ad.theta_H = pyomo.Var([1], domain = pyomo.NonNegativeReals) #in days"
   ]
  },
  {
   "cell_type": "markdown",
   "metadata": {},
   "source": [
    "specify the objective (here tried as one long function)"
   ]
  },
  {
   "cell_type": "code",
   "execution_count": 29,
   "metadata": {},
   "outputs": [
    {
     "data": {
      "text/plain": [
       "float"
      ]
     },
     "execution_count": 29,
     "metadata": {},
     "output_type": "execute_result"
    }
   ],
   "source": [
    "type(float(digester_data.loc[digester_data.index[0],'Gate Fee']))"
   ]
  },
  {
   "cell_type": "code",
   "execution_count": 30,
   "metadata": {},
   "outputs": [],
   "source": [
    "origins = digester_data.index\n",
    "from pyomo.environ import exp\n",
    "model_ad.revenue = pyomo.Objective(\n",
    "    expr = sum(\n",
    "        (#the income\n",
    "            sum(digester_data.loc[origin,'Gate Fee']*digester_data.loc[origin,'Gate Fee'] for origin in origins) +\n",
    "             0.60*sum(digester_data.loc[origin,'Biogaspotentieel']*digester_data.loc[origin,'Tonnage']*\n",
    "                      #(1-exp(float(-digester_data.loc[origin,'Degradatie'])*model_ad.Volume[1]/(Q_tot*365))) for origin in origins) - \n",
    "                      (1-exp(float(-digester_data.loc[origin,'Degradatie'])*model_ad.theta_H[1])) for origin in origins) - \n",
    "            #the operational cost\n",
    "            (115846.03 + 110.37*Ton_tot - 691794)\n",
    "        )/(1+r)**t for t in years\n",
    "    ) - (558500 + 184.42*model_ad.Volume[1] + 64975),\n",
    "    sense = pyomo.maximize\n",
    ")"
   ]
  },
  {
   "cell_type": "markdown",
   "metadata": {},
   "source": [
    "Add constraint"
   ]
  },
  {
   "cell_type": "code",
   "execution_count": 31,
   "metadata": {},
   "outputs": [],
   "source": [
    "model_ad.cons_thetaH = pyomo.Constraint(expr = model_ad.theta_H[1]*Q_tot/365 == model_ad.Volume[1])"
   ]
  },
  {
   "cell_type": "markdown",
   "metadata": {},
   "source": [
    "Solve model"
   ]
  },
  {
   "cell_type": "code",
   "execution_count": 32,
   "metadata": {},
   "outputs": [
    {
     "name": "stdout",
     "output_type": "stream",
     "text": [
      "# ==========================================================\n",
      "# = Solver Results                                         =\n",
      "# ==========================================================\n",
      "# ----------------------------------------------------------\n",
      "#   Problem Information\n",
      "# ----------------------------------------------------------\n",
      "Problem: \n",
      "- Lower bound: -inf\n",
      "  Upper bound: inf\n",
      "  Number of objectives: 1\n",
      "  Number of constraints: 1\n",
      "  Number of variables: 2\n",
      "  Sense: unknown\n",
      "# ----------------------------------------------------------\n",
      "#   Solver Information\n",
      "# ----------------------------------------------------------\n",
      "Solver: \n",
      "- Status: ok\n",
      "  Message: Ipopt 3.11.1\\x3a Optimal Solution Found\n",
      "  Termination condition: optimal\n",
      "  Id: 0\n",
      "  Error rc: 0\n",
      "  Time: 0.12342023849487305\n",
      "# ----------------------------------------------------------\n",
      "#   Solution Information\n",
      "# ----------------------------------------------------------\n",
      "Solution: \n",
      "- number of solutions: 0\n",
      "  number of solutions displayed: 0\n"
     ]
    }
   ],
   "source": [
    "nlp_solver = pyomo.SolverFactory('ipopt')\n",
    "nlp_solver.solve(model_ad).write()"
   ]
  },
  {
   "cell_type": "code",
   "execution_count": 33,
   "metadata": {},
   "outputs": [
    {
     "name": "stdout",
     "output_type": "stream",
     "text": [
      "Volume : Size=1, Index=Volume_index\n",
      "    Key : Lower : Value             : Upper : Fixed : Stale : Domain\n",
      "      1 :     0 : 973.1701178712291 :  None : False : False : NonNegativeReals\n"
     ]
    }
   ],
   "source": [
    "model_ad.Volume.display()"
   ]
  },
  {
   "cell_type": "markdown",
   "metadata": {},
   "source": [
    "If jeroen his interpretation is used, then the approximately the solution is obtained: $V \\approx 670 m^3$"
   ]
  },
  {
   "cell_type": "code",
   "execution_count": 34,
   "metadata": {},
   "outputs": [
    {
     "name": "stdout",
     "output_type": "stream",
     "text": [
      "dual : Direction=Suffix.IMPORT, Datatype=Suffix.FLOAT\n",
      "    Key         : Value\n",
      "    cons_thetaH : 184.41999999322533\n"
     ]
    }
   ],
   "source": [
    "model_ad.dual.display()"
   ]
  },
  {
   "cell_type": "markdown",
   "metadata": {},
   "source": [
    "## Rainwatertank"
   ]
  },
  {
   "cell_type": "code",
   "execution_count": null,
   "metadata": {},
   "outputs": [],
   "source": []
  },
  {
   "cell_type": "code",
   "execution_count": 35,
   "metadata": {},
   "outputs": [
    {
     "data": {
      "text/html": [
       "<div>\n",
       "<style scoped>\n",
       "    .dataframe tbody tr th:only-of-type {\n",
       "        vertical-align: middle;\n",
       "    }\n",
       "\n",
       "    .dataframe tbody tr th {\n",
       "        vertical-align: top;\n",
       "    }\n",
       "\n",
       "    .dataframe thead th {\n",
       "        text-align: right;\n",
       "    }\n",
       "</style>\n",
       "<table border=\"1\" class=\"dataframe\">\n",
       "  <thead>\n",
       "    <tr style=\"text-align: right;\">\n",
       "      <th></th>\n",
       "      <th>DATE</th>\n",
       "      <th>PRCP</th>\n",
       "    </tr>\n",
       "    <tr>\n",
       "      <th>obs</th>\n",
       "      <th></th>\n",
       "      <th></th>\n",
       "    </tr>\n",
       "  </thead>\n",
       "  <tbody>\n",
       "    <tr>\n",
       "      <th>1</th>\n",
       "      <td>2000-01-01</td>\n",
       "      <td>0.04</td>\n",
       "    </tr>\n",
       "    <tr>\n",
       "      <th>2</th>\n",
       "      <td>2000-01-02</td>\n",
       "      <td>0.03</td>\n",
       "    </tr>\n",
       "    <tr>\n",
       "      <th>3</th>\n",
       "      <td>2000-01-03</td>\n",
       "      <td>0.00</td>\n",
       "    </tr>\n",
       "    <tr>\n",
       "      <th>4</th>\n",
       "      <td>2000-01-04</td>\n",
       "      <td>0.43</td>\n",
       "    </tr>\n",
       "    <tr>\n",
       "      <th>5</th>\n",
       "      <td>2000-01-05</td>\n",
       "      <td>0.00</td>\n",
       "    </tr>\n",
       "  </tbody>\n",
       "</table>\n",
       "</div>"
      ],
      "text/plain": [
       "          DATE  PRCP\n",
       "obs                 \n",
       "1   2000-01-01  0.04\n",
       "2   2000-01-02  0.03\n",
       "3   2000-01-03  0.00\n",
       "4   2000-01-04  0.43\n",
       "5   2000-01-05  0.00"
      ]
     },
     "execution_count": 35,
     "metadata": {},
     "output_type": "execute_result"
    }
   ],
   "source": [
    "rain_data = pd.read_excel('weatherdata.xlsx', index_col = 'obs')\n",
    "rain_data = rain_data[['DATE','PRCP']] #only columns we need\n",
    "rain_data.head()"
   ]
  },
  {
   "cell_type": "code",
   "execution_count": 36,
   "metadata": {},
   "outputs": [
    {
     "data": {
      "text/plain": [
       "<AxesSubplot: xlabel='obs'>"
      ]
     },
     "execution_count": 36,
     "metadata": {},
     "output_type": "execute_result"
    },
    {
     "data": {
      "image/png": "[encoded data removed]",
      "text/plain": [
       "<Figure size 640x480 with 1 Axes>"
      ]
     },
     "metadata": {},
     "output_type": "display_data"
    }
   ],
   "source": [
    "rain_data['PRCP'].plot()"
   ]
  },
  {
   "cell_type": "markdown",
   "metadata": {},
   "source": [
    "Replace the Nans by zeroes"
   ]
  },
  {
   "cell_type": "code",
   "execution_count": 37,
   "metadata": {},
   "outputs": [
    {
     "data": {
      "text/plain": [
       "<AxesSubplot: xlabel='obs'>"
      ]
     },
     "execution_count": 37,
     "metadata": {},
     "output_type": "execute_result"
    },
    {
     "data": {
      "image/png": "[encoded data removed]",
      "text/plain": [
       "<Figure size 640x480 with 1 Axes>"
      ]
     },
     "metadata": {},
     "output_type": "display_data"
    }
   ],
   "source": [
    "rain_data['PRCP'] = rain_data['PRCP'].fillna(0)\n",
    "rain_data['PRCP'].plot()"
   ]
  },
  {
   "cell_type": "markdown",
   "metadata": {},
   "source": [
    "Model instance"
   ]
  },
  {
   "cell_type": "code",
   "execution_count": 38,
   "metadata": {},
   "outputs": [],
   "source": [
    "model_tank = pyomo.ConcreteModel()\n",
    "model_tank.dual = pyomo.Suffix(direction=pyomo.Suffix.IMPORT)"
   ]
  },
  {
   "cell_type": "markdown",
   "metadata": {},
   "source": [
    "3 variables are needed"
   ]
  },
  {
   "cell_type": "code",
   "execution_count": 39,
   "metadata": {},
   "outputs": [],
   "source": [
    "model_tank.V_tank =  pyomo.Var([1], domain = pyomo.NonNegativeReals)\n",
    "timesteps = rain_data.index.tolist()\n",
    "model_tank.V_i = pyomo.Var(timesteps, domain = pyomo.NonNegativeReals)\n",
    "model_tank.Vused_i = pyomo.Var(timesteps, domain = pyomo.NonNegativeReals)"
   ]
  },
  {
   "cell_type": "markdown",
   "metadata": {},
   "source": [
    "Define an objective function and the constants/parameters associated"
   ]
  },
  {
   "cell_type": "code",
   "execution_count": 40,
   "metadata": {},
   "outputs": [],
   "source": [
    "p_water = 0.0043 #euro/liter\n",
    "a_roof = 200 #m^2\n",
    "#assume that the rainfaill from the df in mm\n",
    "#CONSEQUENCE is that mm*m^2 = liter"
   ]
  },
  {
   "cell_type": "code",
   "execution_count": 41,
   "metadata": {},
   "outputs": [],
   "source": [
    "# model.cost = pyomo.Objective(\n",
    "#     expr = sum(p_water*model_tank.Vused_i[i]/(1+0.02)**(365/i) for i in timesteps\n",
    "#     ) - model_tank.V_tank[1]*0.0923*1.2\n",
    "# )\n",
    "model_tank.obj = pyomo.Objective(\n",
    "    expr = sum(p_water*model_tank.Vused_i[i]/(1+0.02)**(i/365) for i in timesteps\n",
    "    ) - model_tank.V_tank[1]*0.0923*1.2, sense=pyomo.maximize\n",
    ")"
   ]
  },
  {
   "cell_type": "markdown",
   "metadata": {},
   "source": [
    "Define constraints"
   ]
  },
  {
   "cell_type": "code",
   "execution_count": 42,
   "metadata": {},
   "outputs": [],
   "source": [
    "model_tank.cons_consumption = pyomo.ConstraintList()\n",
    "for i in timesteps:\n",
    "    model_tank.cons_consumption.add(model_tank.Vused_i[i] <= model_tank.V_i[i])\n",
    "V_consumption = 200 #l/d\n",
    "model_tank.cons_consumption2 = pyomo.ConstraintList()\n",
    "for i in timesteps:\n",
    "    model_tank.cons_consumption2.add(model_tank.Vused_i[i] <= V_consumption)\n",
    "model_tank.cons_volume_i = pyomo.ConstraintList()\n",
    "for i in timesteps:\n",
    "    model_tank.cons_volume_i.add(model_tank.V_i[i] <= model_tank.V_tank[1])\n",
    "#start with an empty tank!\n",
    "model_tank.t0 = pyomo.Constraint(expr = 0 == model_tank.V_i[1])\n",
    "model_tank.cons_physical = pyomo.ConstraintList()\n",
    "for i in timesteps[2:]:\n",
    "    model_tank.cons_physical.add(model_tank.V_i[i] <= model_tank.V_i[i-1] + rain_data.loc[i,'PRCP']*a_roof - model_tank.Vused_i[i-1])"
   ]
  },
  {
   "cell_type": "markdown",
   "metadata": {},
   "source": [
    "Solve the model"
   ]
  },
  {
   "cell_type": "code",
   "execution_count": 43,
   "metadata": {},
   "outputs": [],
   "source": [
    "# #!conda install -c conda-forge nlopt\n",
    "# try:\n",
    "#     import ipopt\n",
    "# except:\n",
    "#     !pip install pyomo\n",
    "#     !pip install pyomo[ipopt]"
   ]
  },
  {
   "cell_type": "markdown",
   "metadata": {},
   "source": [
    "Note: eventually i installed ipopt manually and set its exe to my global PATH! https://www.coin-or.org/download/binary/Ipopt/ Here you can download it"
   ]
  },
  {
   "cell_type": "code",
   "execution_count": 44,
   "metadata": {},
   "outputs": [
    {
     "name": "stdout",
     "output_type": "stream",
     "text": [
      "# ==========================================================\n",
      "# = Solver Results                                         =\n",
      "# ==========================================================\n",
      "# ----------------------------------------------------------\n",
      "#   Problem Information\n",
      "# ----------------------------------------------------------\n",
      "Problem: \n",
      "- Lower bound: -inf\n",
      "  Upper bound: inf\n",
      "  Number of objectives: 1\n",
      "  Number of constraints: 29327\n",
      "  Number of variables: 14665\n",
      "  Sense: unknown\n",
      "# ----------------------------------------------------------\n",
      "#   Solver Information\n",
      "# ----------------------------------------------------------\n",
      "Solver: \n",
      "- Status: ok\n",
      "  Message: Ipopt 3.11.1\\x3a Optimal Solution Found\n",
      "  Termination condition: optimal\n",
      "  Id: 0\n",
      "  Error rc: 0\n",
      "  Time: 10.73761773109436\n",
      "# ----------------------------------------------------------\n",
      "#   Solution Information\n",
      "# ----------------------------------------------------------\n",
      "Solution: \n",
      "- number of solutions: 0\n",
      "  number of solutions displayed: 0\n"
     ]
    }
   ],
   "source": [
    "nlp_solver = pyomo.SolverFactory('ipopt')\n",
    "nlp_solver.solve(model_tank).write()"
   ]
  },
  {
   "cell_type": "code",
   "execution_count": 45,
   "metadata": {},
   "outputs": [
    {
     "name": "stdout",
     "output_type": "stream",
     "text": [
      "V_tank : Size=1, Index=V_tank_index\n",
      "    Key : Lower : Value            : Upper : Fixed : Stale : Domain\n",
      "      1 :     0 : 235.999987861921 :  None : False : False : NonNegativeReals\n"
     ]
    }
   ],
   "source": [
    "model_tank.V_tank.display()"
   ]
  },
  {
   "cell_type": "code",
   "execution_count": 46,
   "metadata": {},
   "outputs": [
    {
     "name": "stdout",
     "output_type": "stream",
     "text": [
      "obj : Size=1, Index=None, Active=True\n",
      "    Key  : Active : Value\n",
      "    None :   True : 343.7756762564167\n"
     ]
    }
   ],
   "source": [
    "model_tank.obj.display()"
   ]
  },
  {
   "cell_type": "markdown",
   "metadata": {},
   "source": [
    "## PERT"
   ]
  },
  {
   "cell_type": "markdown",
   "metadata": {},
   "source": [
    "<img src=\"PERT_schema.png\">"
   ]
  },
  {
   "cell_type": "markdown",
   "metadata": {},
   "source": [
    "Create a matrix with the orders! so a matrix that represents this network.\n",
    "Activities = A,B,C,D,E,F,G,H,J,K,L,M. We add an activity Z to represent to get a finish time"
   ]
  },
  {
   "cell_type": "code",
   "execution_count": 47,
   "metadata": {},
   "outputs": [
    {
     "name": "stdout",
     "output_type": "stream",
     "text": [
      "[[0. 1. 0. 1. 0. 0. 0. 0. 0. 0. 0. 0. 0.]\n",
      " [0. 0. 1. 0. 0. 1. 0. 0. 0. 0. 0. 0. 0.]\n",
      " [0. 0. 0. 0. 0. 0. 0. 0. 0. 0. 0. 0. 1.]\n",
      " [0. 0. 0. 0. 1. 0. 0. 1. 0. 0. 1. 0. 0.]\n",
      " [0. 0. 1. 0. 0. 1. 0. 0. 0. 0. 0. 0. 0.]\n",
      " [0. 0. 0. 0. 0. 0. 0. 0. 1. 0. 0. 0. 0.]\n",
      " [0. 0. 0. 0. 1. 0. 0. 1. 0. 0. 1. 0. 0.]\n",
      " [0. 0. 0. 0. 0. 0. 0. 0. 1. 0. 0. 0. 0.]\n",
      " [0. 0. 0. 0. 0. 0. 0. 0. 0. 0. 0. 0. 1.]\n",
      " [0. 0. 0. 0. 0. 0. 0. 0. 0. 0. 0. 1. 0.]\n",
      " [0. 0. 0. 0. 0. 0. 0. 0. 0. 0. 0. 1. 0.]\n",
      " [0. 0. 0. 0. 0. 0. 0. 0. 0. 0. 0. 0. 0.]\n",
      " [0. 0. 0. 0. 0. 0. 0. 0. 0. 0. 0. 0. 0.]]\n"
     ]
    }
   ],
   "source": [
    "A_mat = np.zeros((13,13))\n",
    "A_mat[0,1] = 1 #A -> B\n",
    "A_mat[0,3] = 1 #A -> D\n",
    "A_mat[1,2] = 1 #B -> C\n",
    "A_mat[1,5] = 1 #B -> F\n",
    "A_mat[2,12] = 1 #C -> Z \n",
    "A_mat[3,4] = 1 #D -> E\n",
    "A_mat[3,7] = 1 #D -> H\n",
    "A_mat[3,10] = 1 #D -> L\n",
    "A_mat[4,2] = 1 #E -> C\n",
    "A_mat[4,5] = 1 #E -> F\n",
    "A_mat[5,8] = 1 #F -> J\n",
    "A_mat[6,4] = 1 #G -> E\n",
    "A_mat[6,7] =1 #G -> H\n",
    "A_mat[6,10] = 1 #G -> L\n",
    "A_mat[7,8] = 1 #H -> J\n",
    "A_mat[8,12] = 1 #J -> Z\n",
    "A_mat[9,11] = 1 #K -> M\n",
    "A_mat[10,11] = 1 #L -> M\n",
    "print(A_mat)"
   ]
  },
  {
   "cell_type": "markdown",
   "metadata": {},
   "source": [
    "Now define time per activity"
   ]
  },
  {
   "cell_type": "code",
   "execution_count": 48,
   "metadata": {},
   "outputs": [],
   "source": [
    "deltat_act = np.array([7,11,31,17,0,26,23,15,7,33,14,4,0]) #no time for activity Z"
   ]
  },
  {
   "cell_type": "code",
   "execution_count": 49,
   "metadata": {},
   "outputs": [],
   "source": [
    "pert = pyomo.ConcreteModel()\n",
    "pert.dual = pyomo.Suffix(direction=pyomo.Suffix.IMPORT)"
   ]
  },
  {
   "cell_type": "markdown",
   "metadata": {},
   "source": [
    "Define the variables"
   ]
  },
  {
   "cell_type": "code",
   "execution_count": 50,
   "metadata": {},
   "outputs": [],
   "source": [
    "Activities = ['A','B','C','D','E','F','G','H','J','K','L','M','Z']\n",
    "pert.t_fin_end = pyomo.Var([1], domain = pyomo.NonNegativeReals)\n",
    "pert.t_fin_i = pyomo.Var(Activities, domain = pyomo.NonNegativeReals)"
   ]
  },
  {
   "cell_type": "markdown",
   "metadata": {},
   "source": [
    "Define the constraints. For the 3 starting options (A,G,K), their finishing time is already known (equals time for their execution) and so these are first set"
   ]
  },
  {
   "cell_type": "code",
   "execution_count": 51,
   "metadata": {},
   "outputs": [],
   "source": [
    "pert.Aconst = pyomo.Constraint(expr = pert.t_fin_i['A'] == deltat_act[0])\n",
    "pert.Gconst = pyomo.Constraint(expr = pert.t_fin_i['G'] == deltat_act[6])\n",
    "pert.Kconst = pyomo.Constraint(expr = pert.t_fin_i['K'] == deltat_act[9])\n",
    "pert.cons = pyomo.ConstraintList()\n",
    "for i,iletter in enumerate(Activities):\n",
    "    for iacc,iaccletter in enumerate(Activities):\n",
    "        pert.cons.add(A_mat[i,iacc]*(pert.t_fin_i[iletter] + deltat_act[iacc]) <= pert.t_fin_i[iaccletter])\n",
    "pert.endtime_constraint = pyomo.Constraint(expr = pert.t_fin_end[1] == pert.t_fin_i['Z'])\n"
   ]
  },
  {
   "cell_type": "markdown",
   "metadata": {},
   "source": [
    "Define the objective"
   ]
  },
  {
   "cell_type": "code",
   "execution_count": 52,
   "metadata": {},
   "outputs": [],
   "source": [
    "pert.obj = pyomo.Objective(expr = pert.t_fin_end[1], sense = pyomo.minimize)"
   ]
  },
  {
   "cell_type": "markdown",
   "metadata": {},
   "source": [
    "Now solver with a LP model"
   ]
  },
  {
   "cell_type": "code",
   "execution_count": 53,
   "metadata": {},
   "outputs": [
    {
     "name": "stdout",
     "output_type": "stream",
     "text": [
      "# ==========================================================\n",
      "# = Solver Results                                         =\n",
      "# ==========================================================\n",
      "# ----------------------------------------------------------\n",
      "#   Problem Information\n",
      "# ----------------------------------------------------------\n",
      "Problem: \n",
      "- Name: unknown\n",
      "  Lower bound: 57.0\n",
      "  Upper bound: 57.0\n",
      "  Number of objectives: 1\n",
      "  Number of constraints: 174\n",
      "  Number of variables: 15\n",
      "  Number of nonzeros: 193\n",
      "  Sense: minimize\n",
      "# ----------------------------------------------------------\n",
      "#   Solver Information\n",
      "# ----------------------------------------------------------\n",
      "Solver: \n",
      "- Status: ok\n",
      "  Termination condition: optimal\n",
      "  Statistics: \n",
      "    Branch and bound: \n",
      "      Number of bounded subproblems: 0\n",
      "      Number of created subproblems: 0\n",
      "  Error rc: 0\n",
      "  Time: 0.03399944305419922\n",
      "# ----------------------------------------------------------\n",
      "#   Solution Information\n",
      "# ----------------------------------------------------------\n",
      "Solution: \n",
      "- number of solutions: 0\n",
      "  number of solutions displayed: 0\n"
     ]
    }
   ],
   "source": [
    "#solve model\n",
    "solver = pyomo.SolverFactory('glpk')\n",
    "solver.solve(pert).write()"
   ]
  },
  {
   "cell_type": "code",
   "execution_count": 54,
   "metadata": {},
   "outputs": [
    {
     "name": "stdout",
     "output_type": "stream",
     "text": [
      "t_fin_i : Size=13, Index=t_fin_i_index\n",
      "    Key : Lower : Value : Upper : Fixed : Stale : Domain\n",
      "      A :     0 :   7.0 :  None : False : False : NonNegativeReals\n",
      "      B :     0 :  18.0 :  None : False : False : NonNegativeReals\n",
      "      C :     0 :  55.0 :  None : False : False : NonNegativeReals\n",
      "      D :     0 :  24.0 :  None : False : False : NonNegativeReals\n",
      "      E :     0 :  24.0 :  None : False : False : NonNegativeReals\n",
      "      F :     0 :  50.0 :  None : False : False : NonNegativeReals\n",
      "      G :     0 :  23.0 :  None : False : False : NonNegativeReals\n",
      "      H :     0 :  39.0 :  None : False : False : NonNegativeReals\n",
      "      J :     0 :  57.0 :  None : False : False : NonNegativeReals\n",
      "      K :     0 :  33.0 :  None : False : False : NonNegativeReals\n",
      "      L :     0 :  38.0 :  None : False : False : NonNegativeReals\n",
      "      M :     0 :  42.0 :  None : False : False : NonNegativeReals\n",
      "      Z :     0 :  57.0 :  None : False : False : NonNegativeReals\n"
     ]
    }
   ],
   "source": [
    "pert.t_fin_i.display()"
   ]
  },
  {
   "cell_type": "markdown",
   "metadata": {},
   "source": [
    "57 is the correct solution (checked with GAMS code)"
   ]
  },
  {
   "cell_type": "code",
   "execution_count": 55,
   "metadata": {},
   "outputs": [],
   "source": [
    "#pert.dual.display() not shown since a very long list! logical with all these constraints"
   ]
  },
  {
   "cell_type": "markdown",
   "metadata": {},
   "source": [
    "## Codon optimisation"
   ]
  },
  {
   "cell_type": "markdown",
   "metadata": {},
   "source": [
    "No information given besides solution => not solved"
   ]
  },
  {
   "cell_type": "markdown",
   "metadata": {},
   "source": [
    "## Extra exercise: resource allocation"
   ]
  },
  {
   "cell_type": "markdown",
   "metadata": {},
   "source": [
    "A matrix: Aij = amount of resource x per unit of acitvit (a product here j)"
   ]
  },
  {
   "cell_type": "code",
   "execution_count": 245,
   "metadata": {},
   "outputs": [
    {
     "name": "stdout",
     "output_type": "stream",
     "text": [
      "[[0.8 1.2]\n",
      " [0.5 0.7]\n",
      " [0.4 1. ]\n",
      " [1.  0.8]]\n",
      "[140  90 120 125]\n",
      "[67 80]\n"
     ]
    }
   ],
   "source": [
    "A_mat = np.array([[0.8,1.2],[0.5,0.7],[0.4,1.0],[1,0.8]])\n",
    "print(A_mat)\n",
    "b_ub = np.array([140,90,120,125])\n",
    "print(b_ub)\n",
    "c = np.array([82-15,105-25])\n",
    "c_neg = c*-1\n",
    "print(c)"
   ]
  },
  {
   "cell_type": "markdown",
   "metadata": {},
   "source": [
    "Easy to solve in scipy!"
   ]
  },
  {
   "cell_type": "code",
   "execution_count": 246,
   "metadata": {},
   "outputs": [
    {
     "name": "stdout",
     "output_type": "stream",
     "text": [
      "        message: Optimization terminated successfully. (HiGHS Status 7: Optimal)\n",
      "        success: True\n",
      "         status: 0\n",
      "            fun: -10260.714285714284\n",
      "              x: [ 6.786e+01  7.143e+01]\n",
      "            nit: 2\n",
      "          lower:  residual: [ 6.786e+01  7.143e+01]\n",
      "                 marginals: [ 0.000e+00  0.000e+00]\n",
      "          upper:  residual: [       inf        inf]\n",
      "                 marginals: [ 0.000e+00  0.000e+00]\n",
      "          eqlin:  residual: []\n",
      "                 marginals: []\n",
      "        ineqlin:  residual: [ 0.000e+00  6.071e+00  2.143e+01  0.000e+00]\n",
      "                 marginals: [-4.714e+01 -0.000e+00 -0.000e+00 -2.929e+01]\n",
      " mip_node_count: 0\n",
      " mip_dual_bound: 0.0\n",
      "        mip_gap: 0.0\n"
     ]
    }
   ],
   "source": [
    "sol = optimize.linprog(c = c_neg, A_ub =A, b_ub = b_ub)\n",
    "print(sol)"
   ]
  },
  {
   "cell_type": "markdown",
   "metadata": {},
   "source": [
    "Scipy cannot handle the facht that this a maximisation => to pyomo instead! for scipy change to minimisation problem"
   ]
  },
  {
   "cell_type": "code",
   "execution_count": 247,
   "metadata": {},
   "outputs": [],
   "source": [
    "model_resources = pyomo.ConcreteModel()\n",
    "model_resources.dual = pyomo.Suffix(direction = pyomo.Suffix.IMPORT)"
   ]
  },
  {
   "cell_type": "markdown",
   "metadata": {},
   "source": [
    "Define the variables"
   ]
  },
  {
   "cell_type": "code",
   "execution_count": 248,
   "metadata": {},
   "outputs": [],
   "source": [
    "products = ['functional','fancy']\n",
    "model_resources.products = pyomo.Var(products, domain = pyomo.NonNegativeReals)"
   ]
  },
  {
   "cell_type": "markdown",
   "metadata": {},
   "source": [
    "Define the constraints"
   ]
  },
  {
   "cell_type": "code",
   "execution_count": 249,
   "metadata": {},
   "outputs": [],
   "source": [
    "resources = ['small_lathe','large_lathe','chair_carver','labour'] \n",
    "model_resources.cons = pyomo.Constraint(pyomo.Any)\n",
    "for i,resource in enumerate(resources):\n",
    "    model_resources.cons[resource] = sum(A_mat[i,j]*model_resources.products[product] for j,product in enumerate(products)) <= b_ub[i]"
   ]
  },
  {
   "cell_type": "code",
   "execution_count": 250,
   "metadata": {},
   "outputs": [],
   "source": [
    "#imaginary extra constraints: at least 75 function chairs\n",
    "model_resources.func_cons = pyomo.Constraint(expr = model_resources.products['functional'] >= 0)"
   ]
  },
  {
   "cell_type": "markdown",
   "metadata": {},
   "source": [
    "Define the objective function"
   ]
  },
  {
   "cell_type": "code",
   "execution_count": 251,
   "metadata": {},
   "outputs": [],
   "source": [
    "model_resources.profit = pyomo.Objective(expr = sum(c[j]*model_resources.products[product] for j,product in enumerate(products)), sense = pyomo.maximize)"
   ]
  },
  {
   "cell_type": "markdown",
   "metadata": {},
   "source": [
    "solve the model"
   ]
  },
  {
   "cell_type": "code",
   "execution_count": 252,
   "metadata": {},
   "outputs": [
    {
     "name": "stdout",
     "output_type": "stream",
     "text": [
      "# ==========================================================\n",
      "# = Solver Results                                         =\n",
      "# ==========================================================\n",
      "# ----------------------------------------------------------\n",
      "#   Problem Information\n",
      "# ----------------------------------------------------------\n",
      "Problem: \n",
      "- Name: unknown\n",
      "  Lower bound: 10260.7142857143\n",
      "  Upper bound: 10260.7142857143\n",
      "  Number of objectives: 1\n",
      "  Number of constraints: 6\n",
      "  Number of variables: 3\n",
      "  Number of nonzeros: 10\n",
      "  Sense: maximize\n",
      "# ----------------------------------------------------------\n",
      "#   Solver Information\n",
      "# ----------------------------------------------------------\n",
      "Solver: \n",
      "- Status: ok\n",
      "  Termination condition: optimal\n",
      "  Statistics: \n",
      "    Branch and bound: \n",
      "      Number of bounded subproblems: 0\n",
      "      Number of created subproblems: 0\n",
      "  Error rc: 0\n",
      "  Time: 0.03621506690979004\n",
      "# ----------------------------------------------------------\n",
      "#   Solution Information\n",
      "# ----------------------------------------------------------\n",
      "Solution: \n",
      "- number of solutions: 0\n",
      "  number of solutions displayed: 0\n"
     ]
    }
   ],
   "source": [
    "solver = pyomo.SolverFactory('glpk')\n",
    "solver.solve(model_resources).write()"
   ]
  },
  {
   "cell_type": "code",
   "execution_count": 253,
   "metadata": {},
   "outputs": [
    {
     "name": "stdout",
     "output_type": "stream",
     "text": [
      "products : Size=2, Index=products_index\n",
      "    Key        : Lower : Value            : Upper : Fixed : Stale : Domain\n",
      "         fancy :     0 : 71.4285714285714 :  None : False : False : NonNegativeReals\n",
      "    functional :     0 : 67.8571428571428 :  None : False : False : NonNegativeReals\n"
     ]
    }
   ],
   "source": [
    "model_resources.products.display()"
   ]
  },
  {
   "cell_type": "code",
   "execution_count": 254,
   "metadata": {},
   "outputs": [
    {
     "name": "stdout",
     "output_type": "stream",
     "text": [
      "profit : Size=1, Index=None, Active=True\n",
      "    Key  : Active : Value\n",
      "    None :   True : 10260.714285714279\n"
     ]
    }
   ],
   "source": [
    "model_resources.profit.display()"
   ]
  },
  {
   "cell_type": "code",
   "execution_count": 255,
   "metadata": {},
   "outputs": [
    {
     "name": "stdout",
     "output_type": "stream",
     "text": [
      "dual : Direction=Suffix.IMPORT, Datatype=Suffix.FLOAT\n",
      "    Key                : Value\n",
      "    cons[chair_carver] :              0.0\n",
      "          cons[labour] : 29.2857142857143\n",
      "     cons[large_lathe] :              0.0\n",
      "     cons[small_lathe] : 47.1428571428572\n",
      "             func_cons :              0.0\n"
     ]
    }
   ],
   "source": [
    "model_resources.dual.display()"
   ]
  },
  {
   "cell_type": "markdown",
   "metadata": {},
   "source": [
    "Interpretation upper bound: if i would increase the upper limit of labour by one, then the profit would increase by 29.285!\n",
    "\n",
    "Interpretation lower bound: if i would increase the amount of required functional chairs by one, then the profit would drop by -33!"
   ]
  },
  {
   "cell_type": "code",
   "execution_count": null,
   "metadata": {},
   "outputs": [],
   "source": []
  },
  {
   "cell_type": "code",
   "execution_count": null,
   "metadata": {},
   "outputs": [],
   "source": []
  }
 ],
 "metadata": {
  "kernelspec": {
   "display_name": "Python 3 (ipykernel)",
   "language": "python",
   "name": "python3"
  },
  "language_info": {
   "codemirror_mode": {
    "name": "ipython",
    "version": 3
   },
   "file_extension": ".py",
   "mimetype": "text/x-python",
   "name": "python",
   "nbconvert_exporter": "python",
   "pygments_lexer": "ipython3",
   "version": "3.10.8 | packaged by conda-forge | (main, Nov 22 2022, 08:16:33) [MSC v.1929 64 bit (AMD64)]"
  },
  "toc-autonumbering": true,
  "vscode": {
   "interpreter": {
    "hash": "e9ab6fe573ac02d1db8cd65a0548d6d389c4281ed1c31de1360f152f08618e4a"
   }
  }
 },
 "nbformat": 4,
 "nbformat_minor": 4
}
